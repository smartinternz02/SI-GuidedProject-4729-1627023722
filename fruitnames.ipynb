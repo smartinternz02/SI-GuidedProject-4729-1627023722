{
 "cells": [
  {
   "cell_type": "code",
   "execution_count": 5,
   "metadata": {},
   "outputs": [],
   "source": [
    "from tensorflow.keras.models import load_model\n",
    "from tensorflow.keras.preprocessing  import image\n",
    "import numpy as np"
   ]
  },
  {
   "cell_type": "code",
   "execution_count": 6,
   "metadata": {},
   "outputs": [],
   "source": [
    "model = load_model (\"fruitnames.h5\")"
   ]
  },
  {
   "cell_type": "code",
   "execution_count": 7,
   "metadata": {},
   "outputs": [],
   "source": [
    "index=[\"Apple___Black_rot\",\"Apple___healthy\",\"Corn_(maize)___Northern_Leaf_Blight\",\"Corn_(maize)___healthy\",\"Peach___Bacterial_spot\",\"Peach___healthy\"]"
   ]
  },
  {
   "cell_type": "code",
   "execution_count": 8,
   "metadata": {},
   "outputs": [
    {
     "data": {
      "text/plain": [
       "'Apple___Black_rot'"
      ]
     },
     "execution_count": 8,
     "metadata": {},
     "output_type": "execute_result"
    }
   ],
   "source": [
    "img = image.load_img(\"applebkrot.jpg\",target_size = (64,64))\n",
    "k= image.img_to_array(img)\n",
    "k = np.expand_dims(k,axis = 0)\n",
    "pred = np.argmax(model.predict(k))\n",
    "prediction = index[pred]\n",
    "prediction"
   ]
  },
  {
   "cell_type": "code",
   "execution_count": 9,
   "metadata": {},
   "outputs": [
    {
     "data": {
      "text/plain": [
       "'Apple___healthy'"
      ]
     },
     "execution_count": 9,
     "metadata": {},
     "output_type": "execute_result"
    }
   ],
   "source": [
    "img = image.load_img(\"applehel.jpg\",target_size = (64,64))\n",
    "k= image.img_to_array(img)\n",
    "k = np.expand_dims(k,axis = 0)\n",
    "pred = np.argmax(model.predict(k))\n",
    "prediction = index[pred]\n",
    "prediction"
   ]
  },
  {
   "cell_type": "code",
   "execution_count": 10,
   "metadata": {},
   "outputs": [
    {
     "data": {
      "text/plain": [
       "'Corn_(maize)___healthy'"
      ]
     },
     "execution_count": 10,
     "metadata": {},
     "output_type": "execute_result"
    }
   ],
   "source": [
    "img = image.load_img(\"cornhel.jpg\",target_size = (64,64))\n",
    "k= image.img_to_array(img)\n",
    "k = np.expand_dims(k,axis = 0)\n",
    "pred = np.argmax(model.predict(k))\n",
    "prediction = index[pred]\n",
    "prediction"
   ]
  },
  {
   "cell_type": "code",
   "execution_count": 16,
   "metadata": {},
   "outputs": [
    {
     "data": {
      "text/plain": [
       "'Corn_(maize)___healthy'"
      ]
     },
     "execution_count": 16,
     "metadata": {},
     "output_type": "execute_result"
    }
   ],
   "source": [
    "img = image.load_img(\"cornnorth.jpg\",target_size = (64,64))\n",
    "k= image.img_to_array(img)\n",
    "k = np.expand_dims(k,axis = 0)\n",
    "pred = np.argmax(model.predict(k))\n",
    "prediction = index[pred]\n",
    "prediction"
   ]
  },
  {
   "cell_type": "code",
   "execution_count": 17,
   "metadata": {},
   "outputs": [
    {
     "data": {
      "text/plain": [
       "'Peach___Bacterial_spot'"
      ]
     },
     "execution_count": 17,
     "metadata": {},
     "output_type": "execute_result"
    }
   ],
   "source": [
    "img = image.load_img(\"peachbactsp.jpg\",target_size = (64,64))\n",
    "k= image.img_to_array(img)\n",
    "k = np.expand_dims(k,axis = 0)\n",
    "pred = np.argmax(model.predict(k))\n",
    "prediction = index[pred]\n",
    "prediction"
   ]
  },
  {
   "cell_type": "code",
   "execution_count": 18,
   "metadata": {},
   "outputs": [
    {
     "data": {
      "text/plain": [
       "'Apple___healthy'"
      ]
     },
     "execution_count": 18,
     "metadata": {},
     "output_type": "execute_result"
    }
   ],
   "source": [
    "img = image.load_img(\"peachhel.jpg\",target_size = (64,64))\n",
    "k= image.img_to_array(img)\n",
    "k = np.expand_dims(k,axis = 0)\n",
    "pred = np.argmax(model.predict(k))\n",
    "prediction = index[pred]\n",
    "prediction"
   ]
  },
  {
   "cell_type": "code",
   "execution_count": null,
   "metadata": {},
   "outputs": [],
   "source": []
  },
  {
   "cell_type": "code",
   "execution_count": null,
   "metadata": {},
   "outputs": [],
   "source": []
  }
 ],
 "metadata": {
  "kernelspec": {
   "display_name": "Python 3",
   "language": "python",
   "name": "python3"
  },
  "language_info": {
   "codemirror_mode": {
    "name": "ipython",
    "version": 3
   },
   "file_extension": ".py",
   "mimetype": "text/x-python",
   "name": "python",
   "nbconvert_exporter": "python",
   "pygments_lexer": "ipython3",
   "version": "3.7.3"
  }
 },
 "nbformat": 4,
 "nbformat_minor": 2
}
