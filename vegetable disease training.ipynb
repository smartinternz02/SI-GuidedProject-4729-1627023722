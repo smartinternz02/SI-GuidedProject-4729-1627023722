{
 "cells": [
  {
   "cell_type": "code",
   "execution_count": null,
   "metadata": {},
   "outputs": [],
   "source": [
    "from tensorflow.keras.models import Sequential\n",
    "from tensorflow.keras.layers import Dense,Convolution2D,MaxPooling2D,Flatten\n",
    "from tensorflow.keras.layers import Dropout"
   ]
  },
  {
   "cell_type": "code",
   "execution_count": null,
   "metadata": {},
   "outputs": [],
   "source": [
    "from tensorflow.keras.preprocessing.image import ImageDataGenerator\n",
    "train_datagen=ImageDataGenerator(rescale=1./255,shear_range=0.2,zoom_range=0.2,horizontal_flip=True)\n",
    "test_datagen=ImageDataGenerator(rescale=1./255)"
   ]
  },
  {
   "cell_type": "code",
   "execution_count": 3,
   "metadata": {},
   "outputs": [
    {
     "name": "stdout",
     "output_type": "stream",
     "text": [
      "Found 11386 images belonging to 9 classes.\n",
      "Found 3416 images belonging to 9 classes.\n"
     ]
    }
   ],
   "source": [
    "x_train=train_datagen.flow_from_directory(r'E:\\VIT\\Plant Fertilizer recommendation',target_size=(64,64),batch_size=32,class_mode=\"categorical\")\n",
    "x_test=test_datagen.flow_from_directory(r'E:\\AI\\Veg-dataset\\test_set',target_size=(64,64),batch_size=32,class_mode=\"categorical\")"
   ]
  },
  {
   "cell_type": "code",
   "execution_count": 4,
   "metadata": {},
   "outputs": [
    {
     "data": {
      "text/plain": [
       "{'Pepper,_bell___Bacterial_spot': 0,\n",
       " 'Pepper,_bell___healthy': 1,\n",
       " 'Potato___Early_blight': 2,\n",
       " 'Potato___Late_blight': 3,\n",
       " 'Potato___healthy': 4,\n",
       " 'Tomato___Bacterial_spot': 5,\n",
       " 'Tomato___Late_blight': 6,\n",
       " 'Tomato___Leaf_Mold': 7,\n",
       " 'Tomato___Septoria_leaf_spot': 8}"
      ]
     },
     "execution_count": 4,
     "metadata": {},
     "output_type": "execute_result"
    }
   ],
   "source": [
    "x_train.class_indices"
   ]
  },
  {
   "cell_type": "code",
   "execution_count": 5,
   "metadata": {},
   "outputs": [],
   "source": [
    "model=Sequential()"
   ]
  },
  {
   "cell_type": "code",
   "execution_count": 6,
   "metadata": {},
   "outputs": [
    {
     "name": "stdout",
     "output_type": "stream",
     "text": [
      "WARNING:tensorflow:From C:\\Users\\Bella\\Anaconda3\\lib\\site-packages\\tensorflow\\python\\ops\\init_ops.py:1251: calling VarianceScaling.__init__ (from tensorflow.python.ops.init_ops) with dtype is deprecated and will be removed in a future version.\n",
      "Instructions for updating:\n",
      "Call initializer instance with the dtype argument instead of passing it to the constructor\n"
     ]
    }
   ],
   "source": [
    "model.add(Convolution2D(32,(3,3),input_shape=(64,64,3)))"
   ]
  },
  {
   "cell_type": "code",
   "execution_count": 7,
   "metadata": {},
   "outputs": [],
   "source": [
    "model.add(MaxPooling2D((2,2)))"
   ]
  },
  {
   "cell_type": "code",
   "execution_count": 8,
   "metadata": {},
   "outputs": [],
   "source": [
    "model.add(Flatten())"
   ]
  },
  {
   "cell_type": "code",
   "execution_count": 9,
   "metadata": {},
   "outputs": [
    {
     "name": "stdout",
     "output_type": "stream",
     "text": [
      "WARNING:tensorflow:From C:\\Users\\Bella\\Anaconda3\\lib\\site-packages\\tensorflow\\python\\keras\\initializers.py:119: calling RandomUniform.__init__ (from tensorflow.python.ops.init_ops) with dtype is deprecated and will be removed in a future version.\n",
      "Instructions for updating:\n",
      "Call initializer instance with the dtype argument instead of passing it to the constructor\n"
     ]
    }
   ],
   "source": [
    "model.add(Dense(units = 128, kernel_initializer =\"uniform\", activation =\"relu\"))"
   ]
  },
  {
   "cell_type": "code",
   "execution_count": 10,
   "metadata": {},
   "outputs": [],
   "source": [
    "model.add(Dense(units = 64, kernel_initializer =\"uniform\", activation =\"relu\"))"
   ]
  },
  {
   "cell_type": "code",
   "execution_count": 11,
   "metadata": {},
   "outputs": [],
   "source": [
    "model.add(Dropout(0.2))"
   ]
  },
  {
   "cell_type": "code",
   "execution_count": 12,
   "metadata": {},
   "outputs": [],
   "source": [
    "model.add(Dense(units = 32,kernel_initializer =\"uniform\", activation =\"relu\"))"
   ]
  },
  {
   "cell_type": "code",
   "execution_count": 13,
   "metadata": {},
   "outputs": [],
   "source": [
    "model.add(Dropout(0.2))"
   ]
  },
  {
   "cell_type": "code",
   "execution_count": 14,
   "metadata": {},
   "outputs": [],
   "source": [
    "model.add(Dense(units=9,kernel_initializer=\"random_uniform\",activation=\"softmax\"))"
   ]
  },
  {
   "cell_type": "code",
   "execution_count": 15,
   "metadata": {},
   "outputs": [],
   "source": [
    "model.compile(optimizer=\"adam\",loss=\"categorical_crossentropy\",metrics=[\"accuracy\"])"
   ]
  },
  {
   "cell_type": "code",
   "execution_count": 18,
   "metadata": {},
   "outputs": [
    {
     "name": "stdout",
     "output_type": "stream",
     "text": [
      "Epoch 1/50\n",
      "200/200 [==============================] - 29s 146ms/step - loss: 0.2096 - acc: 0.9347 - val_loss: 0.1061 - val_acc: 0.9672\n",
      "Epoch 2/50\n",
      "200/200 [==============================] - 29s 145ms/step - loss: 0.2064 - acc: 0.9332 - val_loss: 0.1653 - val_acc: 0.9281\n",
      "Epoch 3/50\n",
      "200/200 [==============================] - 28s 142ms/step - loss: 0.2099 - acc: 0.9292 - val_loss: 0.1893 - val_acc: 0.9406\n",
      "Epoch 4/50\n",
      "200/200 [==============================] - 28s 141ms/step - loss: 0.2362 - acc: 0.9220 - val_loss: 0.1004 - val_acc: 0.9672\n",
      "Epoch 5/50\n",
      "200/200 [==============================] - 28s 141ms/step - loss: 0.2268 - acc: 0.9280 - val_loss: 0.1628 - val_acc: 0.9469\n",
      "Epoch 6/50\n",
      "200/200 [==============================] - 41s 203ms/step - loss: 0.1958 - acc: 0.9332 - val_loss: 0.0822 - val_acc: 0.9734\n",
      "Epoch 7/50\n",
      "200/200 [==============================] - 44s 222ms/step - loss: 0.2105 - acc: 0.9324 - val_loss: 0.1652 - val_acc: 0.9438\n",
      "Epoch 8/50\n",
      "200/200 [==============================] - 30s 151ms/step - loss: 0.1982 - acc: 0.9373 - val_loss: 0.1680 - val_acc: 0.9422\n",
      "Epoch 9/50\n",
      "200/200 [==============================] - 28s 141ms/step - loss: 0.1972 - acc: 0.9365 - val_loss: 0.1356 - val_acc: 0.9656\n",
      "Epoch 10/50\n",
      "200/200 [==============================] - 30s 149ms/step - loss: 0.2032 - acc: 0.9376 - val_loss: 0.1470 - val_acc: 0.9516\n",
      "Epoch 11/50\n",
      "200/200 [==============================] - 28s 138ms/step - loss: 0.2110 - acc: 0.9353 - val_loss: 0.1488 - val_acc: 0.9484\n",
      "Epoch 12/50\n",
      "200/200 [==============================] - 28s 138ms/step - loss: 0.1961 - acc: 0.9398 - val_loss: 0.1268 - val_acc: 0.9578\n",
      "Epoch 13/50\n",
      "200/200 [==============================] - 29s 143ms/step - loss: 0.1970 - acc: 0.9375 - val_loss: 0.0738 - val_acc: 0.9828\n",
      "Epoch 14/50\n",
      "200/200 [==============================] - 28s 142ms/step - loss: 0.1765 - acc: 0.9424 - val_loss: 0.1032 - val_acc: 0.9594\n",
      "Epoch 15/50\n",
      "200/200 [==============================] - 28s 140ms/step - loss: 0.2152 - acc: 0.9367 - val_loss: 0.3472 - val_acc: 0.8953\n",
      "Epoch 16/50\n",
      "200/200 [==============================] - 28s 138ms/step - loss: 0.1763 - acc: 0.9445 - val_loss: 0.0963 - val_acc: 0.9688\n",
      "Epoch 17/50\n",
      "200/200 [==============================] - 29s 145ms/step - loss: 0.1957 - acc: 0.9370 - val_loss: 0.1216 - val_acc: 0.9500\n",
      "Epoch 18/50\n",
      "200/200 [==============================] - 29s 144ms/step - loss: 0.1577 - acc: 0.9514 - val_loss: 0.1029 - val_acc: 0.9688\n",
      "Epoch 19/50\n",
      "200/200 [==============================] - 29s 144ms/step - loss: 0.1689 - acc: 0.9471 - val_loss: 0.1287 - val_acc: 0.9531\n",
      "Epoch 20/50\n",
      "200/200 [==============================] - 28s 140ms/step - loss: 0.1567 - acc: 0.9508 - val_loss: 0.2466 - val_acc: 0.9312\n",
      "Epoch 21/50\n",
      "200/200 [==============================] - 27s 137ms/step - loss: 0.2214 - acc: 0.9318 - val_loss: 0.1748 - val_acc: 0.9375\n",
      "Epoch 22/50\n",
      "200/200 [==============================] - 28s 142ms/step - loss: 0.1675 - acc: 0.9478 - val_loss: 0.2397 - val_acc: 0.9250\n",
      "Epoch 23/50\n",
      "200/200 [==============================] - 29s 143ms/step - loss: 0.1862 - acc: 0.9409 - val_loss: 0.3274 - val_acc: 0.8984\n",
      "Epoch 24/50\n",
      "200/200 [==============================] - 27s 136ms/step - loss: 0.1518 - acc: 0.9536 - val_loss: 0.1655 - val_acc: 0.9516\n",
      "Epoch 25/50\n",
      "200/200 [==============================] - 28s 139ms/step - loss: 0.1989 - acc: 0.9385 - val_loss: 0.1665 - val_acc: 0.9344\n",
      "Epoch 26/50\n",
      "200/200 [==============================] - 28s 138ms/step - loss: 0.1575 - acc: 0.9501 - val_loss: 0.0822 - val_acc: 0.9656\n",
      "Epoch 27/50\n",
      "200/200 [==============================] - 29s 143ms/step - loss: 0.1784 - acc: 0.9436 - val_loss: 0.1294 - val_acc: 0.9500\n",
      "Epoch 28/50\n",
      "200/200 [==============================] - 28s 138ms/step - loss: 0.1780 - acc: 0.9459 - val_loss: 0.1046 - val_acc: 0.9609\n",
      "Epoch 29/50\n",
      "200/200 [==============================] - 28s 140ms/step - loss: 0.1516 - acc: 0.9491 - val_loss: 0.1363 - val_acc: 0.9453\n",
      "Epoch 30/50\n",
      "200/200 [==============================] - 28s 138ms/step - loss: 0.1697 - acc: 0.9462 - val_loss: 0.1414 - val_acc: 0.9484\n",
      "Epoch 31/50\n",
      "200/200 [==============================] - 28s 142ms/step - loss: 0.1432 - acc: 0.9554 - val_loss: 0.1971 - val_acc: 0.9438\n",
      "Epoch 32/50\n",
      "200/200 [==============================] - 27s 137ms/step - loss: 0.1728 - acc: 0.9439 - val_loss: 0.0649 - val_acc: 0.9844\n",
      "Epoch 33/50\n",
      "200/200 [==============================] - 29s 143ms/step - loss: 0.1454 - acc: 0.9537 - val_loss: 0.1829 - val_acc: 0.9422\n",
      "Epoch 34/50\n",
      "200/200 [==============================] - 28s 141ms/step - loss: 0.1721 - acc: 0.9444 - val_loss: 0.2907 - val_acc: 0.9187\n",
      "Epoch 35/50\n",
      "200/200 [==============================] - 29s 144ms/step - loss: 0.1628 - acc: 0.9470 - val_loss: 0.2677 - val_acc: 0.9203\n",
      "Epoch 36/50\n",
      "200/200 [==============================] - 28s 142ms/step - loss: 0.1571 - acc: 0.9497 - val_loss: 0.0774 - val_acc: 0.9766\n",
      "Epoch 37/50\n",
      "200/200 [==============================] - 28s 138ms/step - loss: 0.1807 - acc: 0.9412 - val_loss: 0.1196 - val_acc: 0.9547\n",
      "Epoch 38/50\n",
      "200/200 [==============================] - 27s 137ms/step - loss: 0.1535 - acc: 0.9495 - val_loss: 0.1560 - val_acc: 0.9422\n",
      "Epoch 39/50\n",
      "200/200 [==============================] - 28s 140ms/step - loss: 0.1505 - acc: 0.9545 - val_loss: 0.1617 - val_acc: 0.9375\n",
      "Epoch 40/50\n",
      "200/200 [==============================] - 28s 138ms/step - loss: 0.1388 - acc: 0.9553 - val_loss: 0.0588 - val_acc: 0.9781\n",
      "Epoch 41/50\n",
      "200/200 [==============================] - 27s 135ms/step - loss: 0.1340 - acc: 0.9576 - val_loss: 0.3534 - val_acc: 0.9078\n",
      "Epoch 42/50\n",
      "200/200 [==============================] - 28s 139ms/step - loss: 0.1706 - acc: 0.9481 - val_loss: 0.0361 - val_acc: 0.9859\n",
      "Epoch 43/50\n",
      "200/200 [==============================] - 28s 142ms/step - loss: 0.1394 - acc: 0.9567 - val_loss: 0.1560 - val_acc: 0.9438\n",
      "Epoch 44/50\n",
      "200/200 [==============================] - 29s 143ms/step - loss: 0.1445 - acc: 0.9545 - val_loss: 0.0632 - val_acc: 0.9828\n",
      "Epoch 45/50\n",
      "200/200 [==============================] - 29s 143ms/step - loss: 0.1562 - acc: 0.9525 - val_loss: 0.1459 - val_acc: 0.9422\n",
      "Epoch 46/50\n",
      "200/200 [==============================] - 27s 136ms/step - loss: 0.1443 - acc: 0.9518 - val_loss: 0.0563 - val_acc: 0.9812\n",
      "Epoch 47/50\n",
      "200/200 [==============================] - 28s 141ms/step - loss: 0.1327 - acc: 0.9595 - val_loss: 0.1349 - val_acc: 0.9578\n",
      "Epoch 48/50\n",
      "200/200 [==============================] - 29s 143ms/step - loss: 0.1258 - acc: 0.9584 - val_loss: 0.5648 - val_acc: 0.8703\n",
      "Epoch 49/50\n",
      "200/200 [==============================] - 28s 138ms/step - loss: 0.1512 - acc: 0.9553 - val_loss: 0.0471 - val_acc: 0.9812\n",
      "Epoch 50/50\n",
      "200/200 [==============================] - 29s 144ms/step - loss: 0.1537 - acc: 0.9552 - val_loss: 0.0558 - val_acc: 0.9844\n"
     ]
    },
    {
     "data": {
      "text/plain": [
       "<tensorflow.python.keras.callbacks.History at 0x19dedf39630>"
      ]
     },
     "execution_count": 18,
     "metadata": {},
     "output_type": "execute_result"
    }
   ],
   "source": [
    "model.fit_generator(x_train,steps_per_epoch=200,epochs=50,validation_data=x_test,validation_steps=20)"
   ]
  },
  {
   "cell_type": "code",
   "execution_count": 19,
   "metadata": {},
   "outputs": [],
   "source": [
    "model.save(\"vegetable.h5\")"
   ]
  },
  {
   "cell_type": "code",
   "execution_count": null,
   "metadata": {},
   "outputs": [],
   "source": []
  }
 ],
 "metadata": {
  "kernelspec": {
   "display_name": "Python 3",
   "language": "python",
   "name": "python3"
  },
  "language_info": {
   "codemirror_mode": {
    "name": "ipython",
    "version": 3
   },
   "file_extension": ".py",
   "mimetype": "text/x-python",
   "name": "python",
   "nbconvert_exporter": "python",
   "pygments_lexer": "ipython3",
   "version": "3.7.3"
  }
 },
 "nbformat": 4,
 "nbformat_minor": 2
}
