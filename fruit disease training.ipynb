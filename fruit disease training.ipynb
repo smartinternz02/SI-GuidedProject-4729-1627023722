{
 "cells": [
  {
   "cell_type": "code",
   "execution_count": 1,
   "metadata": {},
   "outputs": [
    {
     "name": "stderr",
     "output_type": "stream",
     "text": [
      "C:\\Users\\Bella\\Anaconda3\\lib\\site-packages\\tensorflow\\python\\framework\\dtypes.py:516: FutureWarning: Passing (type, 1) or '1type' as a synonym of type is deprecated; in a future version of numpy, it will be understood as (type, (1,)) / '(1,)type'.\n",
      "  _np_qint8 = np.dtype([(\"qint8\", np.int8, 1)])\n",
      "C:\\Users\\Bella\\Anaconda3\\lib\\site-packages\\tensorflow\\python\\framework\\dtypes.py:517: FutureWarning: Passing (type, 1) or '1type' as a synonym of type is deprecated; in a future version of numpy, it will be understood as (type, (1,)) / '(1,)type'.\n",
      "  _np_quint8 = np.dtype([(\"quint8\", np.uint8, 1)])\n",
      "C:\\Users\\Bella\\Anaconda3\\lib\\site-packages\\tensorflow\\python\\framework\\dtypes.py:518: FutureWarning: Passing (type, 1) or '1type' as a synonym of type is deprecated; in a future version of numpy, it will be understood as (type, (1,)) / '(1,)type'.\n",
      "  _np_qint16 = np.dtype([(\"qint16\", np.int16, 1)])\n",
      "C:\\Users\\Bella\\Anaconda3\\lib\\site-packages\\tensorflow\\python\\framework\\dtypes.py:519: FutureWarning: Passing (type, 1) or '1type' as a synonym of type is deprecated; in a future version of numpy, it will be understood as (type, (1,)) / '(1,)type'.\n",
      "  _np_quint16 = np.dtype([(\"quint16\", np.uint16, 1)])\n",
      "C:\\Users\\Bella\\Anaconda3\\lib\\site-packages\\tensorflow\\python\\framework\\dtypes.py:520: FutureWarning: Passing (type, 1) or '1type' as a synonym of type is deprecated; in a future version of numpy, it will be understood as (type, (1,)) / '(1,)type'.\n",
      "  _np_qint32 = np.dtype([(\"qint32\", np.int32, 1)])\n",
      "C:\\Users\\Bella\\Anaconda3\\lib\\site-packages\\tensorflow\\python\\framework\\dtypes.py:525: FutureWarning: Passing (type, 1) or '1type' as a synonym of type is deprecated; in a future version of numpy, it will be understood as (type, (1,)) / '(1,)type'.\n",
      "  np_resource = np.dtype([(\"resource\", np.ubyte, 1)])\n",
      "C:\\Users\\Bella\\Anaconda3\\lib\\site-packages\\tensorboard\\compat\\tensorflow_stub\\dtypes.py:541: FutureWarning: Passing (type, 1) or '1type' as a synonym of type is deprecated; in a future version of numpy, it will be understood as (type, (1,)) / '(1,)type'.\n",
      "  _np_qint8 = np.dtype([(\"qint8\", np.int8, 1)])\n",
      "C:\\Users\\Bella\\Anaconda3\\lib\\site-packages\\tensorboard\\compat\\tensorflow_stub\\dtypes.py:542: FutureWarning: Passing (type, 1) or '1type' as a synonym of type is deprecated; in a future version of numpy, it will be understood as (type, (1,)) / '(1,)type'.\n",
      "  _np_quint8 = np.dtype([(\"quint8\", np.uint8, 1)])\n",
      "C:\\Users\\Bella\\Anaconda3\\lib\\site-packages\\tensorboard\\compat\\tensorflow_stub\\dtypes.py:543: FutureWarning: Passing (type, 1) or '1type' as a synonym of type is deprecated; in a future version of numpy, it will be understood as (type, (1,)) / '(1,)type'.\n",
      "  _np_qint16 = np.dtype([(\"qint16\", np.int16, 1)])\n",
      "C:\\Users\\Bella\\Anaconda3\\lib\\site-packages\\tensorboard\\compat\\tensorflow_stub\\dtypes.py:544: FutureWarning: Passing (type, 1) or '1type' as a synonym of type is deprecated; in a future version of numpy, it will be understood as (type, (1,)) / '(1,)type'.\n",
      "  _np_quint16 = np.dtype([(\"quint16\", np.uint16, 1)])\n",
      "C:\\Users\\Bella\\Anaconda3\\lib\\site-packages\\tensorboard\\compat\\tensorflow_stub\\dtypes.py:545: FutureWarning: Passing (type, 1) or '1type' as a synonym of type is deprecated; in a future version of numpy, it will be understood as (type, (1,)) / '(1,)type'.\n",
      "  _np_qint32 = np.dtype([(\"qint32\", np.int32, 1)])\n",
      "C:\\Users\\Bella\\Anaconda3\\lib\\site-packages\\tensorboard\\compat\\tensorflow_stub\\dtypes.py:550: FutureWarning: Passing (type, 1) or '1type' as a synonym of type is deprecated; in a future version of numpy, it will be understood as (type, (1,)) / '(1,)type'.\n",
      "  np_resource = np.dtype([(\"resource\", np.ubyte, 1)])\n"
     ]
    }
   ],
   "source": [
    "from tensorflow.keras.models import Sequential\n",
    "from tensorflow.keras.layers import Dense,Convolution2D,MaxPooling2D,Flatten\n",
    "from tensorflow.keras.layers import Dropout"
   ]
  },
  {
   "cell_type": "code",
   "execution_count": 2,
   "metadata": {},
   "outputs": [],
   "source": [
    "from tensorflow.keras.preprocessing.image import ImageDataGenerator\n",
    "train_datagen=ImageDataGenerator(rescale=1./255,shear_range=0.2,zoom_range=0.2,horizontal_flip=True)\n",
    "test_datagen=ImageDataGenerator(rescale=1./255)"
   ]
  },
  {
   "cell_type": "code",
   "execution_count": 3,
   "metadata": {},
   "outputs": [
    {
     "name": "stdout",
     "output_type": "stream",
     "text": [
      "Found 5384 images belonging to 6 classes.\n",
      "Found 1686 images belonging to 6 classes.\n"
     ]
    }
   ],
   "source": [
    "x_train=train_datagen.flow_from_directory(r'E:\\AI\\fruit-dataset\\train',target_size=(64,64),batch_size=32,class_mode=\"categorical\")\n",
    "x_test=test_datagen.flow_from_directory(r'E:\\AI\\fruit-dataset\\test',target_size=(64,64),batch_size=32,class_mode=\"categorical\")"
   ]
  },
  {
   "cell_type": "code",
   "execution_count": 4,
   "metadata": {},
   "outputs": [
    {
     "data": {
      "text/plain": [
       "{'Apple___Black_rot': 0,\n",
       " 'Apple___healthy': 1,\n",
       " 'Corn_(maize)___Northern_Leaf_Blight': 2,\n",
       " 'Corn_(maize)___healthy': 3,\n",
       " 'Peach___Bacterial_spot': 4,\n",
       " 'Peach___healthy': 5}"
      ]
     },
     "execution_count": 4,
     "metadata": {},
     "output_type": "execute_result"
    }
   ],
   "source": [
    "x_train.class_indices"
   ]
  },
  {
   "cell_type": "code",
   "execution_count": 5,
   "metadata": {},
   "outputs": [],
   "source": [
    "model=Sequential()"
   ]
  },
  {
   "cell_type": "code",
   "execution_count": 6,
   "metadata": {},
   "outputs": [
    {
     "name": "stdout",
     "output_type": "stream",
     "text": [
      "WARNING:tensorflow:From C:\\Users\\Bella\\Anaconda3\\lib\\site-packages\\tensorflow\\python\\ops\\init_ops.py:1251: calling VarianceScaling.__init__ (from tensorflow.python.ops.init_ops) with dtype is deprecated and will be removed in a future version.\n",
      "Instructions for updating:\n",
      "Call initializer instance with the dtype argument instead of passing it to the constructor\n"
     ]
    }
   ],
   "source": [
    "model.add(Convolution2D(32,(3,3),input_shape=(64,64,3)))"
   ]
  },
  {
   "cell_type": "code",
   "execution_count": 7,
   "metadata": {},
   "outputs": [],
   "source": [
    "model.add(MaxPooling2D((2,2)))"
   ]
  },
  {
   "cell_type": "code",
   "execution_count": 8,
   "metadata": {},
   "outputs": [],
   "source": [
    "model.add(Flatten())"
   ]
  },
  {
   "cell_type": "code",
   "execution_count": 9,
   "metadata": {},
   "outputs": [
    {
     "name": "stdout",
     "output_type": "stream",
     "text": [
      "WARNING:tensorflow:From C:\\Users\\Bella\\Anaconda3\\lib\\site-packages\\tensorflow\\python\\keras\\initializers.py:119: calling RandomUniform.__init__ (from tensorflow.python.ops.init_ops) with dtype is deprecated and will be removed in a future version.\n",
      "Instructions for updating:\n",
      "Call initializer instance with the dtype argument instead of passing it to the constructor\n"
     ]
    }
   ],
   "source": [
    "model.add(Dense(units=128,kernel_initializer=\"random_uniform\",activation=\"relu\"))"
   ]
  },
  {
   "cell_type": "code",
   "execution_count": 10,
   "metadata": {},
   "outputs": [],
   "source": [
    "model.add(Dropout(0.2))"
   ]
  },
  {
   "cell_type": "code",
   "execution_count": 11,
   "metadata": {},
   "outputs": [],
   "source": [
    "model.add(Dense(units=6,kernel_initializer=\"random_uniform\",activation=\"softmax\"))"
   ]
  },
  {
   "cell_type": "code",
   "execution_count": 12,
   "metadata": {},
   "outputs": [],
   "source": [
    "model.compile(optimizer=\"adam\",loss=\"categorical_crossentropy\",metrics=[\"accuracy\"])"
   ]
  },
  {
   "cell_type": "code",
   "execution_count": 13,
   "metadata": {},
   "outputs": [
    {
     "name": "stdout",
     "output_type": "stream",
     "text": [
      "Epoch 1/40\n",
      "45/45 [==============================] - 36s 795ms/step - loss: 1.2159 - acc: 0.5629 - val_loss: 0.6251 - val_acc: 0.8152\n",
      "Epoch 2/40\n",
      "45/45 [==============================] - 29s 650ms/step - loss: 0.6315 - acc: 0.7660 - val_loss: 0.3739 - val_acc: 0.8964\n",
      "Epoch 3/40\n",
      "45/45 [==============================] - 37s 825ms/step - loss: 0.5004 - acc: 0.8292 - val_loss: 0.3515 - val_acc: 0.8839\n",
      "Epoch 4/40\n",
      "45/45 [==============================] - 31s 685ms/step - loss: 0.4101 - acc: 0.8674 - val_loss: 0.3075 - val_acc: 0.9045\n",
      "Epoch 5/40\n",
      "45/45 [==============================] - 9s 206ms/step - loss: 0.3997 - acc: 0.8468 - val_loss: 0.2837 - val_acc: 0.9062\n",
      "Epoch 6/40\n",
      "45/45 [==============================] - 9s 197ms/step - loss: 0.3398 - acc: 0.8938 - val_loss: 0.3431 - val_acc: 0.8821\n",
      "Epoch 7/40\n",
      "45/45 [==============================] - 9s 189ms/step - loss: 0.3226 - acc: 0.8882 - val_loss: 0.3238 - val_acc: 0.8857\n",
      "Epoch 8/40\n",
      "45/45 [==============================] - 9s 210ms/step - loss: 0.3424 - acc: 0.8826 - val_loss: 0.3593 - val_acc: 0.8598\n",
      "Epoch 9/40\n",
      "45/45 [==============================] - 9s 209ms/step - loss: 0.2837 - acc: 0.8990 - val_loss: 0.2287 - val_acc: 0.9232\n",
      "Epoch 10/40\n",
      "45/45 [==============================] - 9s 204ms/step - loss: 0.2895 - acc: 0.8958 - val_loss: 0.2435 - val_acc: 0.9125\n",
      "Epoch 11/40\n",
      "45/45 [==============================] - 10s 215ms/step - loss: 0.2585 - acc: 0.9104 - val_loss: 0.1996 - val_acc: 0.9384\n",
      "Epoch 12/40\n",
      "45/45 [==============================] - 10s 218ms/step - loss: 0.2391 - acc: 0.9243 - val_loss: 0.2370 - val_acc: 0.9179\n",
      "Epoch 13/40\n",
      "45/45 [==============================] - 11s 240ms/step - loss: 0.2493 - acc: 0.9090 - val_loss: 0.1985 - val_acc: 0.9330\n",
      "Epoch 14/40\n",
      "45/45 [==============================] - 11s 255ms/step - loss: 0.2354 - acc: 0.9209 - val_loss: 0.2044 - val_acc: 0.9259\n",
      "Epoch 15/40\n",
      "45/45 [==============================] - 13s 286ms/step - loss: 0.2393 - acc: 0.9187 - val_loss: 0.1986 - val_acc: 0.9384\n",
      "Epoch 16/40\n",
      "45/45 [==============================] - 14s 322ms/step - loss: 0.1904 - acc: 0.9326 - val_loss: 0.2001 - val_acc: 0.9304\n",
      "Epoch 17/40\n",
      "45/45 [==============================] - 9s 198ms/step - loss: 0.1859 - acc: 0.9322 - val_loss: 0.2002 - val_acc: 0.9357\n",
      "Epoch 18/40\n",
      "45/45 [==============================] - 6s 129ms/step - loss: 0.1841 - acc: 0.9347 - val_loss: 0.1944 - val_acc: 0.9339\n",
      "Epoch 19/40\n",
      "45/45 [==============================] - 6s 127ms/step - loss: 0.1710 - acc: 0.9371 - val_loss: 0.1483 - val_acc: 0.9527\n",
      "Epoch 20/40\n",
      "45/45 [==============================] - 6s 127ms/step - loss: 0.1970 - acc: 0.9382 - val_loss: 0.1895 - val_acc: 0.9330\n",
      "Epoch 21/40\n",
      "45/45 [==============================] - 6s 133ms/step - loss: 0.1812 - acc: 0.9354 - val_loss: 0.1452 - val_acc: 0.9482\n",
      "Epoch 22/40\n",
      "45/45 [==============================] - 6s 138ms/step - loss: 0.1694 - acc: 0.9424 - val_loss: 0.1617 - val_acc: 0.9518\n",
      "Epoch 23/40\n",
      "45/45 [==============================] - 6s 137ms/step - loss: 0.1705 - acc: 0.9431 - val_loss: 0.1422 - val_acc: 0.9491\n",
      "Epoch 24/40\n",
      "45/45 [==============================] - 6s 143ms/step - loss: 0.1493 - acc: 0.9357 - val_loss: 0.1812 - val_acc: 0.9411\n",
      "Epoch 25/40\n",
      "45/45 [==============================] - 6s 142ms/step - loss: 0.1681 - acc: 0.9417 - val_loss: 0.2072 - val_acc: 0.9286\n",
      "Epoch 26/40\n",
      "45/45 [==============================] - 7s 148ms/step - loss: 0.2036 - acc: 0.9243 - val_loss: 0.1671 - val_acc: 0.9464\n",
      "Epoch 27/40\n",
      "45/45 [==============================] - 7s 165ms/step - loss: 0.1582 - acc: 0.9424 - val_loss: 0.1295 - val_acc: 0.9625\n",
      "Epoch 28/40\n",
      "45/45 [==============================] - 9s 197ms/step - loss: 0.1671 - acc: 0.9458 - val_loss: 0.1775 - val_acc: 0.9348\n",
      "Epoch 29/40\n",
      "45/45 [==============================] - 9s 194ms/step - loss: 0.1414 - acc: 0.9451 - val_loss: 0.1445 - val_acc: 0.9518\n",
      "Epoch 30/40\n",
      "45/45 [==============================] - 9s 192ms/step - loss: 0.1900 - acc: 0.9308 - val_loss: 0.1732 - val_acc: 0.9438\n",
      "Epoch 31/40\n",
      "45/45 [==============================] - 10s 224ms/step - loss: 0.1540 - acc: 0.9456 - val_loss: 0.1364 - val_acc: 0.9554\n",
      "Epoch 32/40\n",
      "45/45 [==============================] - 9s 194ms/step - loss: 0.1425 - acc: 0.9583 - val_loss: 0.1222 - val_acc: 0.9563\n",
      "Epoch 33/40\n",
      "45/45 [==============================] - 9s 207ms/step - loss: 0.1137 - acc: 0.9667 - val_loss: 0.1269 - val_acc: 0.9554\n",
      "Epoch 34/40\n",
      "45/45 [==============================] - 11s 249ms/step - loss: 0.1405 - acc: 0.9486 - val_loss: 0.1337 - val_acc: 0.9598\n",
      "Epoch 35/40\n",
      "45/45 [==============================] - 9s 209ms/step - loss: 0.1419 - acc: 0.9472 - val_loss: 0.1836 - val_acc: 0.9348\n",
      "Epoch 36/40\n",
      "45/45 [==============================] - 9s 206ms/step - loss: 0.1506 - acc: 0.9463 - val_loss: 0.1154 - val_acc: 0.9643\n",
      "Epoch 37/40\n",
      "45/45 [==============================] - 9s 208ms/step - loss: 0.1301 - acc: 0.9569 - val_loss: 0.1234 - val_acc: 0.9598\n",
      "Epoch 38/40\n",
      "45/45 [==============================] - 9s 193ms/step - loss: 0.0831 - acc: 0.9667 - val_loss: 0.1541 - val_acc: 0.9482\n",
      "Epoch 39/40\n",
      "45/45 [==============================] - 8s 183ms/step - loss: 0.1308 - acc: 0.9583 - val_loss: 0.1249 - val_acc: 0.9580\n",
      "Epoch 40/40\n",
      "45/45 [==============================] - 8s 182ms/step - loss: 0.1451 - acc: 0.9458 - val_loss: 0.1351 - val_acc: 0.9509\n"
     ]
    },
    {
     "data": {
      "text/plain": [
       "<tensorflow.python.keras.callbacks.History at 0x251d0abcbe0>"
      ]
     },
     "execution_count": 13,
     "metadata": {},
     "output_type": "execute_result"
    }
   ],
   "source": [
    "model.fit_generator(x_train,steps_per_epoch = 45, epochs = 40, validation_data = x_test,validation_steps = 35)"
   ]
  },
  {
   "cell_type": "code",
   "execution_count": 14,
   "metadata": {},
   "outputs": [],
   "source": [
    "model.save(\"fruitnames.h5\")"
   ]
  },
  {
   "cell_type": "code",
   "execution_count": null,
   "metadata": {},
   "outputs": [],
   "source": []
  }
 ],
 "metadata": {
  "kernelspec": {
   "display_name": "Python 3",
   "language": "python",
   "name": "python3"
  },
  "language_info": {
   "codemirror_mode": {
    "name": "ipython",
    "version": 3
   },
   "file_extension": ".py",
   "mimetype": "text/x-python",
   "name": "python",
   "nbconvert_exporter": "python",
   "pygments_lexer": "ipython3",
   "version": "3.7.3"
  }
 },
 "nbformat": 4,
 "nbformat_minor": 2
}
